{
 "cells": [
  {
   "cell_type": "code",
   "execution_count": 1,
   "metadata": {},
   "outputs": [
    {
     "name": "stdout",
     "output_type": "stream",
     "text": [
      "[[0 0 0 0 0 0 0 0 1]\n",
      " [0 0 0 0 0 0 0 1 0]\n",
      " [0 0 0 0 0 0 1 0 0]\n",
      " [0 0 0 0 0 0 0 0 0]\n",
      " [0 0 0 0 0 0 0 0 0]\n",
      " [0 0 0 0 0 0 0 0 0]\n",
      " [0 0 1 0 0 0 0 0 0]\n",
      " [0 1 0 0 0 0 0 0 0]\n",
      " [1 0 0 0 0 0 0 0 0]]\n"
     ]
    }
   ],
   "source": [
    "import numpy as np\n",
    "\n",
    "def parse_dbn(dbn_file):\n",
    "    with open(dbn_file, 'r') as f:\n",
    "        lines = f.readlines()\n",
    "        # TODO: rewrite this method to handle multiple sequences and structures\n",
    "        # Check if the file is in the correct format\n",
    "        if len(lines) < 3:\n",
    "            raise ValueError('The DBN file does not contain enough lines to return sequence and structure')\n",
    "        sequence = lines[1].strip()  # Second line is the sequence\n",
    "        structure = lines[2].strip()  # Third line is the dot-bracket notation\n",
    "    return sequence, structure\n",
    "\n",
    "def construct_secondary_structure_matrix(sequence, structure):\n",
    "    \"\"\"\n",
    "    Constructs a secondary structure matrix for an RNA sequence based on its dot-bracket notation.\n",
    "\n",
    "    The secondary structure matrix is an N x N matrix (where N is the length of the sequence) that \n",
    "    represents base pairings in the secondary structure. A '1' in position (i, j) of the matrix \n",
    "    indicates that the nucleotide at position i is paired with the nucleotide at position j, \n",
    "    and the matrix is symmetric since RNA base pairings are bidirectional.\n",
    "\n",
    "    Parameters:\n",
    "    ----------\n",
    "    sequence : str\n",
    "        The RNA sequence (not used directly in the computation but required for matrix size).\n",
    "    structure : str\n",
    "        Dot-bracket notation representing the RNA secondary structure. '(' represents a nucleotide\n",
    "        that is base-paired with a later nucleotide, and ')' represents a nucleotide that is paired\n",
    "        with a preceding nucleotide. Dots '.' represent unpaired nucleotides.\n",
    "\n",
    "    Returns:\n",
    "    -------\n",
    "    matrix : np.ndarray\n",
    "        An N x N matrix where N is the length of the sequence, with 1s indicating base pairings \n",
    "        and 0s elsewhere.\n",
    "\n",
    "    Example:\n",
    "    -------\n",
    "    sequence = \"GCAU\"\n",
    "    structure = \"(..)\"\n",
    "    matrix = construct_secondary_structure_matrix(sequence, structure)\n",
    "    # matrix will be:\n",
    "    # array([[0, 0, 1, 0],\n",
    "    #        [0, 0, 0, 0],\n",
    "    #        [1, 0, 0, 0],\n",
    "    #        [0, 0, 0, 0]])\n",
    "    \"\"\"\n",
    "    N = len(sequence)\n",
    "    matrix = np.zeros((N, N), dtype=int)\n",
    "    \n",
    "    # Stack to hold positions of '('\n",
    "    stack = []\n",
    "    \n",
    "    for i, char in enumerate(structure):\n",
    "        if char == '(':\n",
    "            stack.append(i)\n",
    "        elif char == ')':\n",
    "            if stack:\n",
    "                j = stack.pop()\n",
    "                matrix[i][j] = 1\n",
    "                matrix[j][i] = 1  # Symmetric pairing\n",
    "    return matrix\n",
    "\n",
    "dbn_file = 'example.dbn'  # Replace with actual DBN file path\n",
    "sequence, structure = parse_dbn(dbn_file)\n",
    "matrix = construct_secondary_structure_matrix(sequence, structure)\n",
    "\n",
    "print(matrix)"
   ]
  }
 ],
 "metadata": {
  "kernelspec": {
   "display_name": "jupyter3",
   "language": "python",
   "name": "python3"
  },
  "language_info": {
   "codemirror_mode": {
    "name": "ipython",
    "version": 3
   },
   "file_extension": ".py",
   "mimetype": "text/x-python",
   "name": "python",
   "nbconvert_exporter": "python",
   "pygments_lexer": "ipython3",
   "version": "3.10.6"
  }
 },
 "nbformat": 4,
 "nbformat_minor": 2
}
