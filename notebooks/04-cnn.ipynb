{
 "cells": [
  {
   "cell_type": "code",
   "execution_count": 3,
   "metadata": {},
   "outputs": [
    {
     "name": "stdout",
     "output_type": "stream",
     "text": [
      "[[0 0 0 0 0 0 0 0 1]\n",
      " [0 0 0 0 0 0 0 1 0]\n",
      " [0 0 0 0 0 0 1 0 0]\n",
      " [0 0 0 0 0 0 0 0 0]\n",
      " [0 0 0 0 0 0 0 0 0]\n",
      " [0 0 0 0 0 0 0 0 0]\n",
      " [0 0 1 0 0 0 0 0 0]\n",
      " [0 1 0 0 0 0 0 0 0]\n",
      " [1 0 0 0 0 0 0 0 0]]\n"
     ]
    }
   ],
   "source": [
    "import numpy as np\n",
    "\n",
    "def parse_dbn(dbn_file):\n",
    "    with open(dbn_file, 'r') as f:\n",
    "        lines = f.readlines()\n",
    "        # TODO: rewrite this method to handle multiple sequences and structures\n",
    "        # Check if the file is in the correct format\n",
    "        if len(lines) < 3:\n",
    "            raise ValueError('The DBN file does not contain enough lines to return sequence and structure')\n",
    "        sequence = lines[1].strip()  # Second line is the sequence\n",
    "        structure = lines[2].strip()  # Third line is the dot-bracket notation\n",
    "    return sequence, structure\n",
    "\n",
    "def construct_secondary_structure_matrix(sequence, structure):\n",
    "    N = len(sequence)\n",
    "    matrix = np.zeros((N, N), dtype=int)\n",
    "    \n",
    "    # Stack to hold positions of '('\n",
    "    stack = []\n",
    "    \n",
    "    for i, char in enumerate(structure):\n",
    "        if char == '(':\n",
    "            stack.append(i)\n",
    "        elif char == ')':\n",
    "            if stack:\n",
    "                j = stack.pop()\n",
    "                matrix[i][j] = 1\n",
    "                matrix[j][i] = 1  # Symmetric pairing\n",
    "    return matrix\n",
    "\n",
    "# Example usage:\n",
    "dbn_file = 'example.dbn'  # Replace with actual DBN file path\n",
    "sequence, structure = parse_dbn(dbn_file)\n",
    "matrix = construct_secondary_structure_matrix(sequence, structure)\n",
    "\n",
    "print(matrix)"
   ]
  },
  {
   "cell_type": "code",
   "execution_count": null,
   "metadata": {},
   "outputs": [],
   "source": []
  }
 ],
 "metadata": {
  "kernelspec": {
   "display_name": "jupyter3",
   "language": "python",
   "name": "python3"
  },
  "language_info": {
   "codemirror_mode": {
    "name": "ipython",
    "version": 3
   },
   "file_extension": ".py",
   "mimetype": "text/x-python",
   "name": "python",
   "nbconvert_exporter": "python",
   "pygments_lexer": "ipython3",
   "version": "3.10.6"
  }
 },
 "nbformat": 4,
 "nbformat_minor": 2
}
